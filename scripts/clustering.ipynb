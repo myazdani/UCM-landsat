{
 "cells": [
  {
   "cell_type": "code",
   "execution_count": 125,
   "metadata": {
    "collapsed": false
   },
   "outputs": [],
   "source": [
    "import matplotlib\n",
    "matplotlib.use('Agg')\n",
    "import matplotlib.pyplot as plt\n",
    "%matplotlib inline\n",
    "import shutil\n",
    "import os\n",
    "import pandas as pd\n",
    "from sklearn.cluster import KMeans\n",
    "from sklearn.decomposition import RandomizedPCA\n",
    "import numpy as np"
   ]
  },
  {
   "cell_type": "code",
   "execution_count": 41,
   "metadata": {
    "collapsed": false
   },
   "outputs": [],
   "source": [
    "df = pd.read_csv(\"UCM-BVLC_fc7.csv\")"
   ]
  },
  {
   "cell_type": "code",
   "execution_count": 42,
   "metadata": {
    "collapsed": false
   },
   "outputs": [
    {
     "data": {
      "text/html": [
       "<div>\n",
       "<table border=\"1\" class=\"dataframe\">\n",
       "  <thead>\n",
       "    <tr style=\"text-align: right;\">\n",
       "      <th></th>\n",
       "      <th>Unnamed: 0</th>\n",
       "      <th>0</th>\n",
       "      <th>1</th>\n",
       "      <th>2</th>\n",
       "      <th>3</th>\n",
       "      <th>4</th>\n",
       "      <th>5</th>\n",
       "      <th>6</th>\n",
       "      <th>7</th>\n",
       "      <th>8</th>\n",
       "      <th>...</th>\n",
       "      <th>4086</th>\n",
       "      <th>4087</th>\n",
       "      <th>4088</th>\n",
       "      <th>4089</th>\n",
       "      <th>4090</th>\n",
       "      <th>4091</th>\n",
       "      <th>4092</th>\n",
       "      <th>4093</th>\n",
       "      <th>4094</th>\n",
       "      <th>4095</th>\n",
       "    </tr>\n",
       "  </thead>\n",
       "  <tbody>\n",
       "    <tr>\n",
       "      <th>0</th>\n",
       "      <td>forest98.jpg</td>\n",
       "      <td>-0.000000</td>\n",
       "      <td>-0.0</td>\n",
       "      <td>1.020060</td>\n",
       "      <td>-0.0</td>\n",
       "      <td>3.446866</td>\n",
       "      <td>1.014767</td>\n",
       "      <td>-0.0</td>\n",
       "      <td>0.669705</td>\n",
       "      <td>-0.000000</td>\n",
       "      <td>...</td>\n",
       "      <td>-0.000000</td>\n",
       "      <td>-0.000000</td>\n",
       "      <td>1.939116</td>\n",
       "      <td>0.084468</td>\n",
       "      <td>-0.0</td>\n",
       "      <td>-0.000000</td>\n",
       "      <td>2.680483</td>\n",
       "      <td>-0.0</td>\n",
       "      <td>-0.000000</td>\n",
       "      <td>1.228164</td>\n",
       "    </tr>\n",
       "    <tr>\n",
       "      <th>1</th>\n",
       "      <td>freeway68.jpg</td>\n",
       "      <td>-0.000000</td>\n",
       "      <td>-0.0</td>\n",
       "      <td>-0.000000</td>\n",
       "      <td>-0.0</td>\n",
       "      <td>0.908102</td>\n",
       "      <td>-0.000000</td>\n",
       "      <td>-0.0</td>\n",
       "      <td>-0.000000</td>\n",
       "      <td>0.878464</td>\n",
       "      <td>...</td>\n",
       "      <td>-0.000000</td>\n",
       "      <td>-0.000000</td>\n",
       "      <td>2.004626</td>\n",
       "      <td>-0.000000</td>\n",
       "      <td>-0.0</td>\n",
       "      <td>-0.000000</td>\n",
       "      <td>-0.000000</td>\n",
       "      <td>-0.0</td>\n",
       "      <td>0.889653</td>\n",
       "      <td>2.823646</td>\n",
       "    </tr>\n",
       "    <tr>\n",
       "      <th>2</th>\n",
       "      <td>baseballdiamond62.jpg</td>\n",
       "      <td>0.910761</td>\n",
       "      <td>-0.0</td>\n",
       "      <td>1.088903</td>\n",
       "      <td>-0.0</td>\n",
       "      <td>-0.000000</td>\n",
       "      <td>-0.000000</td>\n",
       "      <td>-0.0</td>\n",
       "      <td>1.522825</td>\n",
       "      <td>-0.000000</td>\n",
       "      <td>...</td>\n",
       "      <td>0.279758</td>\n",
       "      <td>-0.000000</td>\n",
       "      <td>3.392699</td>\n",
       "      <td>1.523453</td>\n",
       "      <td>-0.0</td>\n",
       "      <td>1.085757</td>\n",
       "      <td>-0.000000</td>\n",
       "      <td>-0.0</td>\n",
       "      <td>-0.000000</td>\n",
       "      <td>-0.000000</td>\n",
       "    </tr>\n",
       "    <tr>\n",
       "      <th>3</th>\n",
       "      <td>chaparral68.jpg</td>\n",
       "      <td>-0.000000</td>\n",
       "      <td>-0.0</td>\n",
       "      <td>-0.000000</td>\n",
       "      <td>-0.0</td>\n",
       "      <td>-0.000000</td>\n",
       "      <td>0.628042</td>\n",
       "      <td>-0.0</td>\n",
       "      <td>-0.000000</td>\n",
       "      <td>7.859660</td>\n",
       "      <td>...</td>\n",
       "      <td>-0.000000</td>\n",
       "      <td>1.667751</td>\n",
       "      <td>-0.000000</td>\n",
       "      <td>-0.000000</td>\n",
       "      <td>-0.0</td>\n",
       "      <td>-0.000000</td>\n",
       "      <td>3.221682</td>\n",
       "      <td>-0.0</td>\n",
       "      <td>-0.000000</td>\n",
       "      <td>0.798871</td>\n",
       "    </tr>\n",
       "    <tr>\n",
       "      <th>4</th>\n",
       "      <td>river58.jpg</td>\n",
       "      <td>-0.000000</td>\n",
       "      <td>-0.0</td>\n",
       "      <td>0.981181</td>\n",
       "      <td>-0.0</td>\n",
       "      <td>-0.000000</td>\n",
       "      <td>-0.000000</td>\n",
       "      <td>-0.0</td>\n",
       "      <td>-0.000000</td>\n",
       "      <td>0.464536</td>\n",
       "      <td>...</td>\n",
       "      <td>-0.000000</td>\n",
       "      <td>-0.000000</td>\n",
       "      <td>-0.000000</td>\n",
       "      <td>5.334822</td>\n",
       "      <td>-0.0</td>\n",
       "      <td>-0.000000</td>\n",
       "      <td>-0.000000</td>\n",
       "      <td>-0.0</td>\n",
       "      <td>-0.000000</td>\n",
       "      <td>0.205087</td>\n",
       "    </tr>\n",
       "  </tbody>\n",
       "</table>\n",
       "<p>5 rows × 4097 columns</p>\n",
       "</div>"
      ],
      "text/plain": [
       "              Unnamed: 0         0    1         2    3         4         5  \\\n",
       "0           forest98.jpg -0.000000 -0.0  1.020060 -0.0  3.446866  1.014767   \n",
       "1          freeway68.jpg -0.000000 -0.0 -0.000000 -0.0  0.908102 -0.000000   \n",
       "2  baseballdiamond62.jpg  0.910761 -0.0  1.088903 -0.0 -0.000000 -0.000000   \n",
       "3        chaparral68.jpg -0.000000 -0.0 -0.000000 -0.0 -0.000000  0.628042   \n",
       "4            river58.jpg -0.000000 -0.0  0.981181 -0.0 -0.000000 -0.000000   \n",
       "\n",
       "     6         7         8    ...         4086      4087      4088      4089  \\\n",
       "0 -0.0  0.669705 -0.000000    ...    -0.000000 -0.000000  1.939116  0.084468   \n",
       "1 -0.0 -0.000000  0.878464    ...    -0.000000 -0.000000  2.004626 -0.000000   \n",
       "2 -0.0  1.522825 -0.000000    ...     0.279758 -0.000000  3.392699  1.523453   \n",
       "3 -0.0 -0.000000  7.859660    ...    -0.000000  1.667751 -0.000000 -0.000000   \n",
       "4 -0.0 -0.000000  0.464536    ...    -0.000000 -0.000000 -0.000000  5.334822   \n",
       "\n",
       "   4090      4091      4092  4093      4094      4095  \n",
       "0  -0.0 -0.000000  2.680483  -0.0 -0.000000  1.228164  \n",
       "1  -0.0 -0.000000 -0.000000  -0.0  0.889653  2.823646  \n",
       "2  -0.0  1.085757 -0.000000  -0.0 -0.000000 -0.000000  \n",
       "3  -0.0 -0.000000  3.221682  -0.0 -0.000000  0.798871  \n",
       "4  -0.0 -0.000000 -0.000000  -0.0 -0.000000  0.205087  \n",
       "\n",
       "[5 rows x 4097 columns]"
      ]
     },
     "execution_count": 42,
     "metadata": {},
     "output_type": "execute_result"
    }
   ],
   "source": [
    "df.head()"
   ]
  },
  {
   "cell_type": "code",
   "execution_count": 43,
   "metadata": {
    "collapsed": false
   },
   "outputs": [
    {
     "name": "stdout",
     "output_type": "stream",
     "text": [
      "(2100, 4096)\n"
     ]
    }
   ],
   "source": [
    "X = df.iloc[:,1:]\n",
    "print X.shape"
   ]
  },
  {
   "cell_type": "code",
   "execution_count": 48,
   "metadata": {
    "collapsed": false
   },
   "outputs": [
    {
     "name": "stdout",
     "output_type": "stream",
     "text": [
      "0.944303573159\n"
     ]
    }
   ],
   "source": [
    "pca = RandomizedPCA(n_components=800)\n",
    "\n",
    "res = pca.fit_transform(X) \n",
    "\n",
    "print sum(pca.explained_variance_ratio_)"
   ]
  },
  {
   "cell_type": "code",
   "execution_count": 100,
   "metadata": {
    "collapsed": false
   },
   "outputs": [
    {
     "data": {
      "text/plain": [
       "KMeans(copy_x=True, init='k-means++', max_iter=500, n_clusters=30, n_init=100,\n",
       "    n_jobs=-1, precompute_distances='auto', random_state=0, tol=0.0001,\n",
       "    verbose=0)"
      ]
     },
     "execution_count": 100,
     "metadata": {},
     "output_type": "execute_result"
    }
   ],
   "source": [
    "km = KMeans(n_clusters=30, init='k-means++',n_init=100, max_iter=500, random_state=0, n_jobs=-1)\n",
    "km.fit(X)"
   ]
  },
  {
   "cell_type": "code",
   "execution_count": 101,
   "metadata": {
    "collapsed": false
   },
   "outputs": [],
   "source": [
    "clusters = list(km.labels_)"
   ]
  },
  {
   "cell_type": "code",
   "execution_count": 102,
   "metadata": {
    "collapsed": false
   },
   "outputs": [],
   "source": [
    "cluster_images = {}\n",
    "for i, cluster in enumerate(clusters):\n",
    "    if cluster in cluster_images.keys():\n",
    "        cluster_images[cluster].append(df.iloc[i,0])\n",
    "    else:\n",
    "        cluster_images[cluster] = [df.iloc[i,0]]"
   ]
  },
  {
   "cell_type": "code",
   "execution_count": 122,
   "metadata": {
    "collapsed": false
   },
   "outputs": [
    {
     "name": "stdout",
     "output_type": "stream",
     "text": [
      "number of images is 2100\n"
     ]
    }
   ],
   "source": [
    "src_path = 'UCMerced/JPGs/'\n",
    "image_type = (\".jpg\", \".png\", \".JPG\", \".PNG\", \".JPEG\", \".tif\", \".tiff\", \".TIFF\", '.TIF')\n",
    " \n",
    "image_paths = []  \n",
    "for root, dirs, files in os.walk(src_path):\n",
    "    image_paths.extend([os.path.join(root, f) for f in files if f.endswith(image_type)])\n",
    "    \n",
    "print 'number of images is', len(image_paths)"
   ]
  },
  {
   "cell_type": "code",
   "execution_count": 123,
   "metadata": {
    "collapsed": false
   },
   "outputs": [],
   "source": [
    "cluster_paths = {}\n",
    "for key in cluster_images.keys():\n",
    "    if key in cluster_paths.keys():\n",
    "        cluster_paths[key].append([image_path for image_path in image_paths if image_path.split(\"/\")[-1] in cluster_images[key]])\n",
    "    else:\n",
    "        cluster_paths[key] = [image_path for image_path in image_paths if image_path.split(\"/\")[-1] in cluster_images[key]]"
   ]
  },
  {
   "cell_type": "code",
   "execution_count": 124,
   "metadata": {
    "collapsed": false,
    "scrolled": true
   },
   "outputs": [
    {
     "data": {
      "text/plain": [
       "['UCMerced/JPGs/intersection11.jpg',\n",
       " 'UCMerced/JPGs/buildings48.jpg',\n",
       " 'UCMerced/JPGs/buildings01.jpg',\n",
       " 'UCMerced/JPGs/denseresidential45.jpg',\n",
       " 'UCMerced/JPGs/buildings06.jpg',\n",
       " 'UCMerced/JPGs/buildings08.jpg',\n",
       " 'UCMerced/JPGs/freeway13.jpg',\n",
       " 'UCMerced/JPGs/denseresidential21.jpg',\n",
       " 'UCMerced/JPGs/denseresidential26.jpg',\n",
       " 'UCMerced/JPGs/buildings19.jpg',\n",
       " 'UCMerced/JPGs/denseresidential28.jpg',\n",
       " 'UCMerced/JPGs/buildings17.jpg',\n",
       " 'UCMerced/JPGs/buildings10.jpg',\n",
       " 'UCMerced/JPGs/intersection09.jpg',\n",
       " 'UCMerced/JPGs/buildings22.jpg',\n",
       " 'UCMerced/JPGs/intersection07.jpg',\n",
       " 'UCMerced/JPGs/denseresidential14.jpg',\n",
       " 'UCMerced/JPGs/intersection00.jpg',\n",
       " 'UCMerced/JPGs/intersection59.jpg',\n",
       " 'UCMerced/JPGs/buildings09.jpg',\n",
       " 'UCMerced/JPGs/buildings07.jpg',\n",
       " 'UCMerced/JPGs/buildings00.jpg',\n",
       " 'UCMerced/JPGs/buildings47.jpg',\n",
       " 'UCMerced/JPGs/buildings96.jpg',\n",
       " 'UCMerced/JPGs/denseresidential15.jpg',\n",
       " 'UCMerced/JPGs/intersection01.jpg',\n",
       " 'UCMerced/JPGs/buildings87.jpg',\n",
       " 'UCMerced/JPGs/intersection06.jpg',\n",
       " 'UCMerced/JPGs/airplane04.jpg',\n",
       " 'UCMerced/JPGs/denseresidential12.jpg',\n",
       " 'UCMerced/JPGs/intersection08.jpg',\n",
       " 'UCMerced/JPGs/mediumresidential32.jpg',\n",
       " 'UCMerced/JPGs/buildings23.jpg',\n",
       " 'UCMerced/JPGs/mediumresidential35.jpg',\n",
       " 'UCMerced/JPGs/buildings11.jpg',\n",
       " 'UCMerced/JPGs/denseresidential29.jpg',\n",
       " 'UCMerced/JPGs/buildings16.jpg',\n",
       " 'UCMerced/JPGs/denseresidential27.jpg',\n",
       " 'UCMerced/JPGs/buildings18.jpg',\n",
       " 'UCMerced/JPGs/mediumresidential75.jpg',\n",
       " 'UCMerced/JPGs/denseresidential20.jpg',\n",
       " 'UCMerced/JPGs/intersection05.jpg',\n",
       " 'UCMerced/JPGs/denseresidential11.jpg',\n",
       " 'UCMerced/JPGs/harbor19.jpg',\n",
       " 'UCMerced/JPGs/mediumresidential31.jpg',\n",
       " 'UCMerced/JPGs/overpass00.jpg',\n",
       " 'UCMerced/JPGs/buildings20.jpg',\n",
       " 'UCMerced/JPGs/buildings15.jpg',\n",
       " 'UCMerced/JPGs/buildings12.jpg',\n",
       " 'UCMerced/JPGs/denseresidential23.jpg',\n",
       " 'UCMerced/JPGs/denseresidential24.jpg',\n",
       " 'UCMerced/JPGs/mediumresidential76.jpg',\n",
       " 'UCMerced/JPGs/tenniscourt20.jpg',\n",
       " 'UCMerced/JPGs/buildings31.jpg',\n",
       " 'UCMerced/JPGs/buildings36.jpg',\n",
       " 'UCMerced/JPGs/denseresidential07.jpg',\n",
       " 'UCMerced/JPGs/buildings44.jpg',\n",
       " 'UCMerced/JPGs/mediumresidential29.jpg',\n",
       " 'UCMerced/JPGs/intersection13.jpg',\n",
       " 'UCMerced/JPGs/buildings43.jpg',\n",
       " 'UCMerced/JPGs/intersection14.jpg',\n",
       " 'UCMerced/JPGs/denseresidential22.jpg',\n",
       " 'UCMerced/JPGs/buildings13.jpg',\n",
       " 'UCMerced/JPGs/buildings14.jpg',\n",
       " 'UCMerced/JPGs/buildings21.jpg',\n",
       " 'UCMerced/JPGs/denseresidential19.jpg',\n",
       " 'UCMerced/JPGs/airplane06.jpg',\n",
       " 'UCMerced/JPGs/denseresidential10.jpg',\n",
       " 'UCMerced/JPGs/buildings93.jpg',\n",
       " 'UCMerced/JPGs/intersection15.jpg',\n",
       " 'UCMerced/JPGs/buildings39.jpg',\n",
       " 'UCMerced/JPGs/mediumresidential28.jpg',\n",
       " 'UCMerced/JPGs/intersection12.jpg',\n",
       " 'UCMerced/JPGs/buildings37.jpg',\n",
       " 'UCMerced/JPGs/buildings05.jpg',\n",
       " 'UCMerced/JPGs/tenniscourt21.jpg',\n",
       " 'UCMerced/JPGs/denseresidential99.jpg']"
      ]
     },
     "execution_count": 124,
     "metadata": {},
     "output_type": "execute_result"
    }
   ],
   "source": [
    "cluster_paths[1]"
   ]
  },
  {
   "cell_type": "code",
   "execution_count": 126,
   "metadata": {
    "collapsed": true
   },
   "outputs": [],
   "source": [
    "def copyFromListToPath(src_paths, dest_path):\n",
    "    for i in range(len(src_paths)): shutil.copy2(src_paths[i], dest_path)"
   ]
  },
  {
   "cell_type": "code",
   "execution_count": 129,
   "metadata": {
    "collapsed": true
   },
   "outputs": [],
   "source": [
    "for key in cluster_paths.keys():\n",
    "    dest_dir = 'clusters/' + str(key) + '/'\n",
    "    if not os.path.exists(dest_dir): \n",
    "        os.makedirs(dest_dir)\n",
    "    copyFromListToPath(cluster_paths[key], dest_dir)"
   ]
  },
  {
   "cell_type": "code",
   "execution_count": null,
   "metadata": {
    "collapsed": true
   },
   "outputs": [],
   "source": []
  }
 ],
 "metadata": {
  "kernelspec": {
   "display_name": "Python 2",
   "language": "python",
   "name": "python2"
  },
  "language_info": {
   "codemirror_mode": {
    "name": "ipython",
    "version": 2
   },
   "file_extension": ".py",
   "mimetype": "text/x-python",
   "name": "python",
   "nbconvert_exporter": "python",
   "pygments_lexer": "ipython2",
   "version": "2.7.5"
  }
 },
 "nbformat": 4,
 "nbformat_minor": 0
}
