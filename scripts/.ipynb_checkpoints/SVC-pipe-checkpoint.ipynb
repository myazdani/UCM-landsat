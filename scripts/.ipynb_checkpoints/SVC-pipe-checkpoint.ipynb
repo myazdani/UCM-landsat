{
 "cells": [
  {
   "cell_type": "code",
   "execution_count": 51,
   "metadata": {
    "collapsed": false
   },
   "outputs": [],
   "source": [
    "import pandas as pd\n",
    "from sklearn.grid_search import GridSearchCV\n",
    "from sklearn.svm import SVC\n",
    "from sklearn.pipeline import Pipeline\n",
    "from sklearn.preprocessing import StandardScaler\n",
    "import numpy as np"
   ]
  },
  {
   "cell_type": "code",
   "execution_count": 102,
   "metadata": {
    "collapsed": true
   },
   "outputs": [],
   "source": [
    "df = pd.read_csv(\"../features/UCM-BVLC_fc7.csv\")"
   ]
  },
  {
   "cell_type": "code",
   "execution_count": 103,
   "metadata": {
    "collapsed": false
   },
   "outputs": [
    {
     "data": {
      "text/html": [
       "<div>\n",
       "<table border=\"1\" class=\"dataframe\">\n",
       "  <thead>\n",
       "    <tr style=\"text-align: right;\">\n",
       "      <th></th>\n",
       "      <th>Unnamed: 0</th>\n",
       "      <th>0</th>\n",
       "      <th>1</th>\n",
       "      <th>2</th>\n",
       "      <th>3</th>\n",
       "      <th>4</th>\n",
       "      <th>5</th>\n",
       "      <th>6</th>\n",
       "      <th>7</th>\n",
       "      <th>8</th>\n",
       "      <th>...</th>\n",
       "      <th>4086</th>\n",
       "      <th>4087</th>\n",
       "      <th>4088</th>\n",
       "      <th>4089</th>\n",
       "      <th>4090</th>\n",
       "      <th>4091</th>\n",
       "      <th>4092</th>\n",
       "      <th>4093</th>\n",
       "      <th>4094</th>\n",
       "      <th>4095</th>\n",
       "    </tr>\n",
       "  </thead>\n",
       "  <tbody>\n",
       "    <tr>\n",
       "      <th>0</th>\n",
       "      <td>forest98.jpg</td>\n",
       "      <td>-0.000000</td>\n",
       "      <td>-0.0</td>\n",
       "      <td>1.020060</td>\n",
       "      <td>-0.0</td>\n",
       "      <td>3.446866</td>\n",
       "      <td>1.014767</td>\n",
       "      <td>-0.0</td>\n",
       "      <td>0.669705</td>\n",
       "      <td>-0.000000</td>\n",
       "      <td>...</td>\n",
       "      <td>-0.000000</td>\n",
       "      <td>-0.000000</td>\n",
       "      <td>1.939116</td>\n",
       "      <td>0.084468</td>\n",
       "      <td>-0.0</td>\n",
       "      <td>-0.000000</td>\n",
       "      <td>2.680483</td>\n",
       "      <td>-0.0</td>\n",
       "      <td>-0.000000</td>\n",
       "      <td>1.228164</td>\n",
       "    </tr>\n",
       "    <tr>\n",
       "      <th>1</th>\n",
       "      <td>freeway68.jpg</td>\n",
       "      <td>-0.000000</td>\n",
       "      <td>-0.0</td>\n",
       "      <td>-0.000000</td>\n",
       "      <td>-0.0</td>\n",
       "      <td>0.908102</td>\n",
       "      <td>-0.000000</td>\n",
       "      <td>-0.0</td>\n",
       "      <td>-0.000000</td>\n",
       "      <td>0.878464</td>\n",
       "      <td>...</td>\n",
       "      <td>-0.000000</td>\n",
       "      <td>-0.000000</td>\n",
       "      <td>2.004626</td>\n",
       "      <td>-0.000000</td>\n",
       "      <td>-0.0</td>\n",
       "      <td>-0.000000</td>\n",
       "      <td>-0.000000</td>\n",
       "      <td>-0.0</td>\n",
       "      <td>0.889653</td>\n",
       "      <td>2.823646</td>\n",
       "    </tr>\n",
       "    <tr>\n",
       "      <th>2</th>\n",
       "      <td>baseballdiamond62.jpg</td>\n",
       "      <td>0.910761</td>\n",
       "      <td>-0.0</td>\n",
       "      <td>1.088903</td>\n",
       "      <td>-0.0</td>\n",
       "      <td>-0.000000</td>\n",
       "      <td>-0.000000</td>\n",
       "      <td>-0.0</td>\n",
       "      <td>1.522825</td>\n",
       "      <td>-0.000000</td>\n",
       "      <td>...</td>\n",
       "      <td>0.279758</td>\n",
       "      <td>-0.000000</td>\n",
       "      <td>3.392699</td>\n",
       "      <td>1.523453</td>\n",
       "      <td>-0.0</td>\n",
       "      <td>1.085757</td>\n",
       "      <td>-0.000000</td>\n",
       "      <td>-0.0</td>\n",
       "      <td>-0.000000</td>\n",
       "      <td>-0.000000</td>\n",
       "    </tr>\n",
       "    <tr>\n",
       "      <th>3</th>\n",
       "      <td>chaparral68.jpg</td>\n",
       "      <td>-0.000000</td>\n",
       "      <td>-0.0</td>\n",
       "      <td>-0.000000</td>\n",
       "      <td>-0.0</td>\n",
       "      <td>-0.000000</td>\n",
       "      <td>0.628042</td>\n",
       "      <td>-0.0</td>\n",
       "      <td>-0.000000</td>\n",
       "      <td>7.859660</td>\n",
       "      <td>...</td>\n",
       "      <td>-0.000000</td>\n",
       "      <td>1.667751</td>\n",
       "      <td>-0.000000</td>\n",
       "      <td>-0.000000</td>\n",
       "      <td>-0.0</td>\n",
       "      <td>-0.000000</td>\n",
       "      <td>3.221682</td>\n",
       "      <td>-0.0</td>\n",
       "      <td>-0.000000</td>\n",
       "      <td>0.798871</td>\n",
       "    </tr>\n",
       "    <tr>\n",
       "      <th>4</th>\n",
       "      <td>river58.jpg</td>\n",
       "      <td>-0.000000</td>\n",
       "      <td>-0.0</td>\n",
       "      <td>0.981181</td>\n",
       "      <td>-0.0</td>\n",
       "      <td>-0.000000</td>\n",
       "      <td>-0.000000</td>\n",
       "      <td>-0.0</td>\n",
       "      <td>-0.000000</td>\n",
       "      <td>0.464536</td>\n",
       "      <td>...</td>\n",
       "      <td>-0.000000</td>\n",
       "      <td>-0.000000</td>\n",
       "      <td>-0.000000</td>\n",
       "      <td>5.334822</td>\n",
       "      <td>-0.0</td>\n",
       "      <td>-0.000000</td>\n",
       "      <td>-0.000000</td>\n",
       "      <td>-0.0</td>\n",
       "      <td>-0.000000</td>\n",
       "      <td>0.205087</td>\n",
       "    </tr>\n",
       "  </tbody>\n",
       "</table>\n",
       "<p>5 rows × 4097 columns</p>\n",
       "</div>"
      ],
      "text/plain": [
       "              Unnamed: 0         0    1         2    3         4         5  \\\n",
       "0           forest98.jpg -0.000000 -0.0  1.020060 -0.0  3.446866  1.014767   \n",
       "1          freeway68.jpg -0.000000 -0.0 -0.000000 -0.0  0.908102 -0.000000   \n",
       "2  baseballdiamond62.jpg  0.910761 -0.0  1.088903 -0.0 -0.000000 -0.000000   \n",
       "3        chaparral68.jpg -0.000000 -0.0 -0.000000 -0.0 -0.000000  0.628042   \n",
       "4            river58.jpg -0.000000 -0.0  0.981181 -0.0 -0.000000 -0.000000   \n",
       "\n",
       "     6         7         8    ...         4086      4087      4088      4089  \\\n",
       "0 -0.0  0.669705 -0.000000    ...    -0.000000 -0.000000  1.939116  0.084468   \n",
       "1 -0.0 -0.000000  0.878464    ...    -0.000000 -0.000000  2.004626 -0.000000   \n",
       "2 -0.0  1.522825 -0.000000    ...     0.279758 -0.000000  3.392699  1.523453   \n",
       "3 -0.0 -0.000000  7.859660    ...    -0.000000  1.667751 -0.000000 -0.000000   \n",
       "4 -0.0 -0.000000  0.464536    ...    -0.000000 -0.000000 -0.000000  5.334822   \n",
       "\n",
       "   4090      4091      4092  4093      4094      4095  \n",
       "0  -0.0 -0.000000  2.680483  -0.0 -0.000000  1.228164  \n",
       "1  -0.0 -0.000000 -0.000000  -0.0  0.889653  2.823646  \n",
       "2  -0.0  1.085757 -0.000000  -0.0 -0.000000 -0.000000  \n",
       "3  -0.0 -0.000000  3.221682  -0.0 -0.000000  0.798871  \n",
       "4  -0.0 -0.000000 -0.000000  -0.0 -0.000000  0.205087  \n",
       "\n",
       "[5 rows x 4097 columns]"
      ]
     },
     "execution_count": 103,
     "metadata": {},
     "output_type": "execute_result"
    }
   ],
   "source": [
    "df.head()"
   ]
  },
  {
   "cell_type": "code",
   "execution_count": 104,
   "metadata": {
    "collapsed": false
   },
   "outputs": [
    {
     "name": "stdout",
     "output_type": "stream",
     "text": [
      "feature data is shape (2100, 4096)\n",
      "label data is shape (2100,)\n"
     ]
    }
   ],
   "source": [
    "X = np.array(df.iloc[:,1:])\n",
    "\n",
    "import re\n",
    "def getdigit(text):\n",
    "    return re.compile('\\d+').findall(text)\n",
    "labels = [i.split(getdigit(i)[0])[0] for i in df.iloc[:,0]]\n",
    "\n",
    "from sklearn import preprocessing\n",
    "le = preprocessing.LabelEncoder()\n",
    "y = le.fit_transform(labels)\n",
    "\n",
    "print \"feature data is shape\", X.shape\n",
    "print \"label data is shape\", y.shape"
   ]
  },
  {
   "cell_type": "code",
   "execution_count": 105,
   "metadata": {
    "collapsed": false
   },
   "outputs": [],
   "source": [
    "pipe_svc = Pipeline([('sc1', StandardScaler()),\n",
    "                    ('clf', SVC(random_state=1))])\n",
    "\n",
    "param_range = np.logspace(-10, 1, 10)\n",
    "param_grid = [{'clf__C': param_range}]\n",
    "gs = GridSearchCV(estimator=pipe_svc, param_grid=param_grid, cv=10, n_jobs=-1)"
   ]
  },
  {
   "cell_type": "code",
   "execution_count": null,
   "metadata": {
    "collapsed": false
   },
   "outputs": [],
   "source": [
    "gs.fit(X, y)"
   ]
  },
  {
   "cell_type": "code",
   "execution_count": null,
   "metadata": {
    "collapsed": false
   },
   "outputs": [],
   "source": [
    "gs.best_score_"
   ]
  },
  {
   "cell_type": "code",
   "execution_count": null,
   "metadata": {
    "collapsed": false
   },
   "outputs": [],
   "source": [
    "gs.best_params_"
   ]
  },
  {
   "cell_type": "code",
   "execution_count": null,
   "metadata": {
    "collapsed": true
   },
   "outputs": [],
   "source": []
  }
 ],
 "metadata": {
  "kernelspec": {
   "display_name": "Python 2",
   "language": "python",
   "name": "python2"
  },
  "language_info": {
   "codemirror_mode": {
    "name": "ipython",
    "version": 2
   },
   "file_extension": ".py",
   "mimetype": "text/x-python",
   "name": "python",
   "nbconvert_exporter": "python",
   "pygments_lexer": "ipython2",
   "version": "2.7.5"
  }
 },
 "nbformat": 4,
 "nbformat_minor": 0
}
