{
 "cells": [
  {
   "cell_type": "code",
   "execution_count": 1,
   "metadata": {
    "collapsed": true
   },
   "outputs": [],
   "source": [
    "import pandas as pd\n",
    "from sklearn.decomposition import RandomizedPCA"
   ]
  },
  {
   "cell_type": "code",
   "execution_count": 2,
   "metadata": {
    "collapsed": true
   },
   "outputs": [],
   "source": [
    "df = pd.read_csv(\"UCM-BVLC_fc8.csv\")"
   ]
  },
  {
   "cell_type": "code",
   "execution_count": 3,
   "metadata": {
    "collapsed": false
   },
   "outputs": [
    {
     "data": {
      "text/html": [
       "<div>\n",
       "<table border=\"1\" class=\"dataframe\">\n",
       "  <thead>\n",
       "    <tr style=\"text-align: right;\">\n",
       "      <th></th>\n",
       "      <th>Unnamed: 0</th>\n",
       "      <th>0</th>\n",
       "      <th>1</th>\n",
       "      <th>2</th>\n",
       "      <th>3</th>\n",
       "      <th>4</th>\n",
       "      <th>5</th>\n",
       "      <th>6</th>\n",
       "      <th>7</th>\n",
       "      <th>8</th>\n",
       "      <th>...</th>\n",
       "      <th>990</th>\n",
       "      <th>991</th>\n",
       "      <th>992</th>\n",
       "      <th>993</th>\n",
       "      <th>994</th>\n",
       "      <th>995</th>\n",
       "      <th>996</th>\n",
       "      <th>997</th>\n",
       "      <th>998</th>\n",
       "      <th>999</th>\n",
       "    </tr>\n",
       "  </thead>\n",
       "  <tbody>\n",
       "    <tr>\n",
       "      <th>0</th>\n",
       "      <td>forest98.jpg</td>\n",
       "      <td>3.394221</td>\n",
       "      <td>0.024436</td>\n",
       "      <td>-0.951532</td>\n",
       "      <td>0.828239</td>\n",
       "      <td>4.325354</td>\n",
       "      <td>8.444196</td>\n",
       "      <td>4.750379</td>\n",
       "      <td>-3.194697</td>\n",
       "      <td>-0.308623</td>\n",
       "      <td>...</td>\n",
       "      <td>4.140114</td>\n",
       "      <td>4.695904</td>\n",
       "      <td>-0.485757</td>\n",
       "      <td>1.209028</td>\n",
       "      <td>2.141083</td>\n",
       "      <td>5.215262</td>\n",
       "      <td>6.775169</td>\n",
       "      <td>1.805746</td>\n",
       "      <td>0.963774</td>\n",
       "      <td>-0.495347</td>\n",
       "    </tr>\n",
       "    <tr>\n",
       "      <th>1</th>\n",
       "      <td>freeway68.jpg</td>\n",
       "      <td>-0.534332</td>\n",
       "      <td>-0.464036</td>\n",
       "      <td>-0.333521</td>\n",
       "      <td>0.374259</td>\n",
       "      <td>2.542969</td>\n",
       "      <td>2.476313</td>\n",
       "      <td>-0.100329</td>\n",
       "      <td>-4.476785</td>\n",
       "      <td>-3.602560</td>\n",
       "      <td>...</td>\n",
       "      <td>-2.597158</td>\n",
       "      <td>-1.621189</td>\n",
       "      <td>-3.534390</td>\n",
       "      <td>-3.142078</td>\n",
       "      <td>-1.290463</td>\n",
       "      <td>-0.287777</td>\n",
       "      <td>-0.108755</td>\n",
       "      <td>-3.934715</td>\n",
       "      <td>-0.494324</td>\n",
       "      <td>-0.650371</td>\n",
       "    </tr>\n",
       "    <tr>\n",
       "      <th>2</th>\n",
       "      <td>baseballdiamond62.jpg</td>\n",
       "      <td>-1.218124</td>\n",
       "      <td>-1.866401</td>\n",
       "      <td>0.365583</td>\n",
       "      <td>-2.149860</td>\n",
       "      <td>0.987010</td>\n",
       "      <td>4.733014</td>\n",
       "      <td>5.329662</td>\n",
       "      <td>-2.818625</td>\n",
       "      <td>0.278900</td>\n",
       "      <td>...</td>\n",
       "      <td>-1.402028</td>\n",
       "      <td>-1.590618</td>\n",
       "      <td>-2.388388</td>\n",
       "      <td>-1.088891</td>\n",
       "      <td>-2.267937</td>\n",
       "      <td>-0.214031</td>\n",
       "      <td>-0.414610</td>\n",
       "      <td>-0.831938</td>\n",
       "      <td>-2.233459</td>\n",
       "      <td>2.792534</td>\n",
       "    </tr>\n",
       "    <tr>\n",
       "      <th>3</th>\n",
       "      <td>chaparral68.jpg</td>\n",
       "      <td>-2.443155</td>\n",
       "      <td>-0.196979</td>\n",
       "      <td>-2.265209</td>\n",
       "      <td>-2.313400</td>\n",
       "      <td>-0.340688</td>\n",
       "      <td>3.086439</td>\n",
       "      <td>2.516660</td>\n",
       "      <td>0.285109</td>\n",
       "      <td>2.009658</td>\n",
       "      <td>...</td>\n",
       "      <td>2.267012</td>\n",
       "      <td>1.180609</td>\n",
       "      <td>1.576444</td>\n",
       "      <td>-1.630680</td>\n",
       "      <td>1.528057</td>\n",
       "      <td>1.072069</td>\n",
       "      <td>1.340575</td>\n",
       "      <td>0.306062</td>\n",
       "      <td>3.690346</td>\n",
       "      <td>3.705902</td>\n",
       "    </tr>\n",
       "    <tr>\n",
       "      <th>4</th>\n",
       "      <td>river58.jpg</td>\n",
       "      <td>2.789468</td>\n",
       "      <td>-3.145357</td>\n",
       "      <td>-0.633031</td>\n",
       "      <td>2.563886</td>\n",
       "      <td>3.137646</td>\n",
       "      <td>2.767730</td>\n",
       "      <td>1.320891</td>\n",
       "      <td>-1.122712</td>\n",
       "      <td>0.091341</td>\n",
       "      <td>...</td>\n",
       "      <td>1.013945</td>\n",
       "      <td>0.831421</td>\n",
       "      <td>-3.399990</td>\n",
       "      <td>-1.029848</td>\n",
       "      <td>-0.293361</td>\n",
       "      <td>-0.450526</td>\n",
       "      <td>2.377162</td>\n",
       "      <td>0.777082</td>\n",
       "      <td>1.784420</td>\n",
       "      <td>-3.166745</td>\n",
       "    </tr>\n",
       "  </tbody>\n",
       "</table>\n",
       "<p>5 rows × 1001 columns</p>\n",
       "</div>"
      ],
      "text/plain": [
       "              Unnamed: 0         0         1         2         3         4  \\\n",
       "0           forest98.jpg  3.394221  0.024436 -0.951532  0.828239  4.325354   \n",
       "1          freeway68.jpg -0.534332 -0.464036 -0.333521  0.374259  2.542969   \n",
       "2  baseballdiamond62.jpg -1.218124 -1.866401  0.365583 -2.149860  0.987010   \n",
       "3        chaparral68.jpg -2.443155 -0.196979 -2.265209 -2.313400 -0.340688   \n",
       "4            river58.jpg  2.789468 -3.145357 -0.633031  2.563886  3.137646   \n",
       "\n",
       "          5         6         7         8    ...          990       991  \\\n",
       "0  8.444196  4.750379 -3.194697 -0.308623    ...     4.140114  4.695904   \n",
       "1  2.476313 -0.100329 -4.476785 -3.602560    ...    -2.597158 -1.621189   \n",
       "2  4.733014  5.329662 -2.818625  0.278900    ...    -1.402028 -1.590618   \n",
       "3  3.086439  2.516660  0.285109  2.009658    ...     2.267012  1.180609   \n",
       "4  2.767730  1.320891 -1.122712  0.091341    ...     1.013945  0.831421   \n",
       "\n",
       "        992       993       994       995       996       997       998  \\\n",
       "0 -0.485757  1.209028  2.141083  5.215262  6.775169  1.805746  0.963774   \n",
       "1 -3.534390 -3.142078 -1.290463 -0.287777 -0.108755 -3.934715 -0.494324   \n",
       "2 -2.388388 -1.088891 -2.267937 -0.214031 -0.414610 -0.831938 -2.233459   \n",
       "3  1.576444 -1.630680  1.528057  1.072069  1.340575  0.306062  3.690346   \n",
       "4 -3.399990 -1.029848 -0.293361 -0.450526  2.377162  0.777082  1.784420   \n",
       "\n",
       "        999  \n",
       "0 -0.495347  \n",
       "1 -0.650371  \n",
       "2  2.792534  \n",
       "3  3.705902  \n",
       "4 -3.166745  \n",
       "\n",
       "[5 rows x 1001 columns]"
      ]
     },
     "execution_count": 3,
     "metadata": {},
     "output_type": "execute_result"
    }
   ],
   "source": [
    "df.head()"
   ]
  },
  {
   "cell_type": "code",
   "execution_count": 4,
   "metadata": {
    "collapsed": false
   },
   "outputs": [
    {
     "name": "stdout",
     "output_type": "stream",
     "text": [
      "(2100, 1000)\n"
     ]
    }
   ],
   "source": [
    "X = df.iloc[:,1:]\n",
    "\n",
    "print X.shape"
   ]
  },
  {
   "cell_type": "code",
   "execution_count": 5,
   "metadata": {
    "collapsed": true
   },
   "outputs": [],
   "source": [
    "pca = RandomizedPCA(n_components=3)\n",
    "\n",
    "res = pca.fit_transform(X) "
   ]
  },
  {
   "cell_type": "code",
   "execution_count": 69,
   "metadata": {
    "collapsed": true
   },
   "outputs": [],
   "source": [
    "out_df = pd.DataFrame({'filename': df.iloc[:,0]})"
   ]
  },
  {
   "cell_type": "code",
   "execution_count": 70,
   "metadata": {
    "collapsed": true
   },
   "outputs": [],
   "source": [
    "out_df[\"pc1\"] = res[:,0]\n",
    "out_df[\"pc2\"] = res[:,1]\n",
    "out_df[\"pc3\"] = res[:,2]"
   ]
  },
  {
   "cell_type": "code",
   "execution_count": 71,
   "metadata": {
    "collapsed": false
   },
   "outputs": [],
   "source": [
    "out_df.to_csv(\"../processed-features/UCM-BVLC-fc8-pca.csv\", index = False)"
   ]
  },
  {
   "cell_type": "code",
   "execution_count": null,
   "metadata": {
    "collapsed": true
   },
   "outputs": [],
   "source": []
  }
 ],
 "metadata": {
  "kernelspec": {
   "display_name": "Python 2",
   "language": "python",
   "name": "python2"
  },
  "language_info": {
   "codemirror_mode": {
    "name": "ipython",
    "version": 2
   },
   "file_extension": ".py",
   "mimetype": "text/x-python",
   "name": "python",
   "nbconvert_exporter": "python",
   "pygments_lexer": "ipython2",
   "version": "2.7.5"
  }
 },
 "nbformat": 4,
 "nbformat_minor": 0
}
