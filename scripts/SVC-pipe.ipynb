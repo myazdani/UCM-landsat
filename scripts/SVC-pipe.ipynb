{
 "cells": [
  {
   "cell_type": "code",
   "execution_count": 1,
   "metadata": {
    "collapsed": false
   },
   "outputs": [],
   "source": [
    "import pandas as pd\n",
    "from sklearn.grid_search import GridSearchCV\n",
    "from sklearn.cross_validation import StratifiedKFold\n",
    "from sklearn.svm import SVC\n",
    "from sklearn.pipeline import Pipeline\n",
    "from sklearn.preprocessing import StandardScaler\n",
    "import numpy as np\n",
    "from sklearn.decomposition import RandomizedPCA"
   ]
  },
  {
   "cell_type": "code",
   "execution_count": 3,
   "metadata": {
    "collapsed": false
   },
   "outputs": [],
   "source": [
    "in_file = '/Public/BigPixel/Features Extracted/UCMerced/Finetune/Concat/UCM-ResNet51-fixed-finetune-1000-fc1001-fc1000.csv'\n",
    "out_file = \"../results/\" + in_file.split(\"/\")[-1].split(\".csv\")[0] + \".npy\"\n",
    "df = pd.read_csv(in_file)"
   ]
  },
  {
   "cell_type": "code",
   "execution_count": 4,
   "metadata": {
    "collapsed": false
   },
   "outputs": [
    {
     "data": {
      "text/html": [
       "<div>\n",
       "<table border=\"1\" class=\"dataframe\">\n",
       "  <thead>\n",
       "    <tr style=\"text-align: right;\">\n",
       "      <th></th>\n",
       "      <th>0</th>\n",
       "      <th>0.1_x</th>\n",
       "      <th>1_x</th>\n",
       "      <th>2_x</th>\n",
       "      <th>3_x</th>\n",
       "      <th>4_x</th>\n",
       "      <th>5_x</th>\n",
       "      <th>6_x</th>\n",
       "      <th>7_x</th>\n",
       "      <th>8_x</th>\n",
       "      <th>...</th>\n",
       "      <th>990</th>\n",
       "      <th>991</th>\n",
       "      <th>992</th>\n",
       "      <th>993</th>\n",
       "      <th>994</th>\n",
       "      <th>995</th>\n",
       "      <th>996</th>\n",
       "      <th>997</th>\n",
       "      <th>998</th>\n",
       "      <th>999</th>\n",
       "    </tr>\n",
       "  </thead>\n",
       "  <tbody>\n",
       "    <tr>\n",
       "      <th>0</th>\n",
       "      <td>agricultural00.tif</td>\n",
       "      <td>-5.985988</td>\n",
       "      <td>-2.632875</td>\n",
       "      <td>-1.239275</td>\n",
       "      <td>0.981469</td>\n",
       "      <td>2.181983</td>\n",
       "      <td>-0.937268</td>\n",
       "      <td>-0.293290</td>\n",
       "      <td>-2.421835</td>\n",
       "      <td>5.039817</td>\n",
       "      <td>...</td>\n",
       "      <td>-0.240605</td>\n",
       "      <td>-1.108775</td>\n",
       "      <td>-0.039925</td>\n",
       "      <td>0.465008</td>\n",
       "      <td>-1.036976</td>\n",
       "      <td>-0.523020</td>\n",
       "      <td>1.514892</td>\n",
       "      <td>-0.742436</td>\n",
       "      <td>2.691406</td>\n",
       "      <td>0.633042</td>\n",
       "    </tr>\n",
       "    <tr>\n",
       "      <th>1</th>\n",
       "      <td>agricultural01.tif</td>\n",
       "      <td>-4.734846</td>\n",
       "      <td>-1.385766</td>\n",
       "      <td>-0.808036</td>\n",
       "      <td>-1.598906</td>\n",
       "      <td>1.323177</td>\n",
       "      <td>-1.815063</td>\n",
       "      <td>-1.025150</td>\n",
       "      <td>-0.402246</td>\n",
       "      <td>3.692932</td>\n",
       "      <td>...</td>\n",
       "      <td>-2.821346</td>\n",
       "      <td>-1.345883</td>\n",
       "      <td>0.085303</td>\n",
       "      <td>-1.598293</td>\n",
       "      <td>-1.674048</td>\n",
       "      <td>-0.367275</td>\n",
       "      <td>0.478812</td>\n",
       "      <td>-1.457259</td>\n",
       "      <td>1.928455</td>\n",
       "      <td>3.155661</td>\n",
       "    </tr>\n",
       "    <tr>\n",
       "      <th>2</th>\n",
       "      <td>agricultural02.tif</td>\n",
       "      <td>-5.367169</td>\n",
       "      <td>-4.350185</td>\n",
       "      <td>1.270621</td>\n",
       "      <td>-3.720010</td>\n",
       "      <td>2.916455</td>\n",
       "      <td>2.639628</td>\n",
       "      <td>-1.354328</td>\n",
       "      <td>-0.552722</td>\n",
       "      <td>6.499020</td>\n",
       "      <td>...</td>\n",
       "      <td>-0.983849</td>\n",
       "      <td>-0.987947</td>\n",
       "      <td>-1.310067</td>\n",
       "      <td>-0.884034</td>\n",
       "      <td>-1.277995</td>\n",
       "      <td>0.271307</td>\n",
       "      <td>1.337530</td>\n",
       "      <td>-1.951130</td>\n",
       "      <td>1.679827</td>\n",
       "      <td>0.808132</td>\n",
       "    </tr>\n",
       "    <tr>\n",
       "      <th>3</th>\n",
       "      <td>agricultural03.tif</td>\n",
       "      <td>-5.413073</td>\n",
       "      <td>-1.857112</td>\n",
       "      <td>-0.298476</td>\n",
       "      <td>-1.561651</td>\n",
       "      <td>1.720369</td>\n",
       "      <td>0.005885</td>\n",
       "      <td>-0.228317</td>\n",
       "      <td>-0.125035</td>\n",
       "      <td>2.160454</td>\n",
       "      <td>...</td>\n",
       "      <td>-1.854178</td>\n",
       "      <td>-1.503122</td>\n",
       "      <td>0.253859</td>\n",
       "      <td>-0.822789</td>\n",
       "      <td>-1.408132</td>\n",
       "      <td>-0.765813</td>\n",
       "      <td>0.737210</td>\n",
       "      <td>-1.251438</td>\n",
       "      <td>2.036563</td>\n",
       "      <td>2.590920</td>\n",
       "    </tr>\n",
       "    <tr>\n",
       "      <th>4</th>\n",
       "      <td>agricultural04.tif</td>\n",
       "      <td>0.837424</td>\n",
       "      <td>-6.176835</td>\n",
       "      <td>3.070347</td>\n",
       "      <td>-2.667214</td>\n",
       "      <td>2.153282</td>\n",
       "      <td>4.907008</td>\n",
       "      <td>-0.521865</td>\n",
       "      <td>-2.203057</td>\n",
       "      <td>4.639434</td>\n",
       "      <td>...</td>\n",
       "      <td>1.579164</td>\n",
       "      <td>1.093745</td>\n",
       "      <td>-2.591939</td>\n",
       "      <td>-0.655340</td>\n",
       "      <td>1.109855</td>\n",
       "      <td>3.877506</td>\n",
       "      <td>4.635158</td>\n",
       "      <td>-3.434886</td>\n",
       "      <td>0.698258</td>\n",
       "      <td>1.599552</td>\n",
       "    </tr>\n",
       "  </tbody>\n",
       "</table>\n",
       "<p>5 rows × 1345 columns</p>\n",
       "</div>"
      ],
      "text/plain": [
       "                    0     0.1_x       1_x       2_x       3_x       4_x  \\\n",
       "0  agricultural00.tif -5.985988 -2.632875 -1.239275  0.981469  2.181983   \n",
       "1  agricultural01.tif -4.734846 -1.385766 -0.808036 -1.598906  1.323177   \n",
       "2  agricultural02.tif -5.367169 -4.350185  1.270621 -3.720010  2.916455   \n",
       "3  agricultural03.tif -5.413073 -1.857112 -0.298476 -1.561651  1.720369   \n",
       "4  agricultural04.tif  0.837424 -6.176835  3.070347 -2.667214  2.153282   \n",
       "\n",
       "        5_x       6_x       7_x       8_x    ...          990       991  \\\n",
       "0 -0.937268 -0.293290 -2.421835  5.039817    ...    -0.240605 -1.108775   \n",
       "1 -1.815063 -1.025150 -0.402246  3.692932    ...    -2.821346 -1.345883   \n",
       "2  2.639628 -1.354328 -0.552722  6.499020    ...    -0.983849 -0.987947   \n",
       "3  0.005885 -0.228317 -0.125035  2.160454    ...    -1.854178 -1.503122   \n",
       "4  4.907008 -0.521865 -2.203057  4.639434    ...     1.579164  1.093745   \n",
       "\n",
       "        992       993       994       995       996       997       998  \\\n",
       "0 -0.039925  0.465008 -1.036976 -0.523020  1.514892 -0.742436  2.691406   \n",
       "1  0.085303 -1.598293 -1.674048 -0.367275  0.478812 -1.457259  1.928455   \n",
       "2 -1.310067 -0.884034 -1.277995  0.271307  1.337530 -1.951130  1.679827   \n",
       "3  0.253859 -0.822789 -1.408132 -0.765813  0.737210 -1.251438  2.036563   \n",
       "4 -2.591939 -0.655340  1.109855  3.877506  4.635158 -3.434886  0.698258   \n",
       "\n",
       "        999  \n",
       "0  0.633042  \n",
       "1  3.155661  \n",
       "2  0.808132  \n",
       "3  2.590920  \n",
       "4  1.599552  \n",
       "\n",
       "[5 rows x 1345 columns]"
      ]
     },
     "execution_count": 4,
     "metadata": {},
     "output_type": "execute_result"
    }
   ],
   "source": [
    "df.head()"
   ]
  },
  {
   "cell_type": "code",
   "execution_count": 5,
   "metadata": {
    "collapsed": false
   },
   "outputs": [
    {
     "data": {
      "text/html": [
       "<div>\n",
       "<table border=\"1\" class=\"dataframe\">\n",
       "  <thead>\n",
       "    <tr style=\"text-align: right;\">\n",
       "      <th></th>\n",
       "      <th>0</th>\n",
       "      <th>0.1_x</th>\n",
       "      <th>1_x</th>\n",
       "      <th>2_x</th>\n",
       "      <th>3_x</th>\n",
       "      <th>4_x</th>\n",
       "      <th>5_x</th>\n",
       "      <th>6_x</th>\n",
       "      <th>7_x</th>\n",
       "      <th>8_x</th>\n",
       "      <th>...</th>\n",
       "      <th>990</th>\n",
       "      <th>991</th>\n",
       "      <th>992</th>\n",
       "      <th>993</th>\n",
       "      <th>994</th>\n",
       "      <th>995</th>\n",
       "      <th>996</th>\n",
       "      <th>997</th>\n",
       "      <th>998</th>\n",
       "      <th>999</th>\n",
       "    </tr>\n",
       "  </thead>\n",
       "  <tbody>\n",
       "    <tr>\n",
       "      <th>1483</th>\n",
       "      <td>overpass83.tif</td>\n",
       "      <td>-5.092795</td>\n",
       "      <td>-4.323410</td>\n",
       "      <td>-8.093110</td>\n",
       "      <td>-0.570455</td>\n",
       "      <td>4.821430</td>\n",
       "      <td>9.224036</td>\n",
       "      <td>-8.468239</td>\n",
       "      <td>3.245510</td>\n",
       "      <td>5.633328</td>\n",
       "      <td>...</td>\n",
       "      <td>-5.903979</td>\n",
       "      <td>-6.114616</td>\n",
       "      <td>-4.523384</td>\n",
       "      <td>-8.152966</td>\n",
       "      <td>-6.904293</td>\n",
       "      <td>-5.336998</td>\n",
       "      <td>-2.674910</td>\n",
       "      <td>-6.737684</td>\n",
       "      <td>-0.729528</td>\n",
       "      <td>4.865066</td>\n",
       "    </tr>\n",
       "    <tr>\n",
       "      <th>1755</th>\n",
       "      <td>runway55.tif</td>\n",
       "      <td>-3.001887</td>\n",
       "      <td>-5.327291</td>\n",
       "      <td>-0.992837</td>\n",
       "      <td>-1.237405</td>\n",
       "      <td>2.687583</td>\n",
       "      <td>3.639000</td>\n",
       "      <td>-4.016954</td>\n",
       "      <td>2.007850</td>\n",
       "      <td>4.087449</td>\n",
       "      <td>...</td>\n",
       "      <td>-1.104352</td>\n",
       "      <td>-3.625035</td>\n",
       "      <td>-1.241803</td>\n",
       "      <td>-5.247230</td>\n",
       "      <td>-5.007086</td>\n",
       "      <td>-4.238493</td>\n",
       "      <td>-2.951863</td>\n",
       "      <td>-3.321991</td>\n",
       "      <td>-0.503330</td>\n",
       "      <td>4.294188</td>\n",
       "    </tr>\n",
       "    <tr>\n",
       "      <th>1173</th>\n",
       "      <td>intersection73.tif</td>\n",
       "      <td>0.714707</td>\n",
       "      <td>-6.534633</td>\n",
       "      <td>2.810425</td>\n",
       "      <td>-1.797145</td>\n",
       "      <td>2.245310</td>\n",
       "      <td>6.676893</td>\n",
       "      <td>-4.194223</td>\n",
       "      <td>4.245513</td>\n",
       "      <td>0.538878</td>\n",
       "      <td>...</td>\n",
       "      <td>2.309725</td>\n",
       "      <td>-4.771924</td>\n",
       "      <td>-2.488456</td>\n",
       "      <td>-5.012335</td>\n",
       "      <td>-3.484069</td>\n",
       "      <td>-1.991385</td>\n",
       "      <td>-2.970977</td>\n",
       "      <td>-5.131673</td>\n",
       "      <td>1.174945</td>\n",
       "      <td>2.279248</td>\n",
       "    </tr>\n",
       "    <tr>\n",
       "      <th>1447</th>\n",
       "      <td>overpass47.tif</td>\n",
       "      <td>-2.899192</td>\n",
       "      <td>-3.204572</td>\n",
       "      <td>-5.608658</td>\n",
       "      <td>-1.222683</td>\n",
       "      <td>2.855041</td>\n",
       "      <td>5.915286</td>\n",
       "      <td>-7.010575</td>\n",
       "      <td>-1.149062</td>\n",
       "      <td>3.568789</td>\n",
       "      <td>...</td>\n",
       "      <td>-3.891545</td>\n",
       "      <td>-5.305041</td>\n",
       "      <td>-4.195081</td>\n",
       "      <td>-5.997907</td>\n",
       "      <td>-4.172110</td>\n",
       "      <td>-2.113411</td>\n",
       "      <td>0.100377</td>\n",
       "      <td>-3.549310</td>\n",
       "      <td>2.594893</td>\n",
       "      <td>2.880086</td>\n",
       "    </tr>\n",
       "    <tr>\n",
       "      <th>1913</th>\n",
       "      <td>storagetanks13.tif</td>\n",
       "      <td>-3.957778</td>\n",
       "      <td>-8.926714</td>\n",
       "      <td>0.109093</td>\n",
       "      <td>0.942578</td>\n",
       "      <td>4.426417</td>\n",
       "      <td>5.954741</td>\n",
       "      <td>-6.834038</td>\n",
       "      <td>4.862585</td>\n",
       "      <td>5.034209</td>\n",
       "      <td>...</td>\n",
       "      <td>1.432020</td>\n",
       "      <td>-2.381471</td>\n",
       "      <td>-1.905261</td>\n",
       "      <td>-6.316472</td>\n",
       "      <td>-3.354561</td>\n",
       "      <td>-3.236649</td>\n",
       "      <td>-1.383633</td>\n",
       "      <td>-4.670828</td>\n",
       "      <td>0.507948</td>\n",
       "      <td>3.735312</td>\n",
       "    </tr>\n",
       "  </tbody>\n",
       "</table>\n",
       "<p>5 rows × 1345 columns</p>\n",
       "</div>"
      ],
      "text/plain": [
       "                       0     0.1_x       1_x       2_x       3_x       4_x  \\\n",
       "1483      overpass83.tif -5.092795 -4.323410 -8.093110 -0.570455  4.821430   \n",
       "1755        runway55.tif -3.001887 -5.327291 -0.992837 -1.237405  2.687583   \n",
       "1173  intersection73.tif  0.714707 -6.534633  2.810425 -1.797145  2.245310   \n",
       "1447      overpass47.tif -2.899192 -3.204572 -5.608658 -1.222683  2.855041   \n",
       "1913  storagetanks13.tif -3.957778 -8.926714  0.109093  0.942578  4.426417   \n",
       "\n",
       "           5_x       6_x       7_x       8_x    ...          990       991  \\\n",
       "1483  9.224036 -8.468239  3.245510  5.633328    ...    -5.903979 -6.114616   \n",
       "1755  3.639000 -4.016954  2.007850  4.087449    ...    -1.104352 -3.625035   \n",
       "1173  6.676893 -4.194223  4.245513  0.538878    ...     2.309725 -4.771924   \n",
       "1447  5.915286 -7.010575 -1.149062  3.568789    ...    -3.891545 -5.305041   \n",
       "1913  5.954741 -6.834038  4.862585  5.034209    ...     1.432020 -2.381471   \n",
       "\n",
       "           992       993       994       995       996       997       998  \\\n",
       "1483 -4.523384 -8.152966 -6.904293 -5.336998 -2.674910 -6.737684 -0.729528   \n",
       "1755 -1.241803 -5.247230 -5.007086 -4.238493 -2.951863 -3.321991 -0.503330   \n",
       "1173 -2.488456 -5.012335 -3.484069 -1.991385 -2.970977 -5.131673  1.174945   \n",
       "1447 -4.195081 -5.997907 -4.172110 -2.113411  0.100377 -3.549310  2.594893   \n",
       "1913 -1.905261 -6.316472 -3.354561 -3.236649 -1.383633 -4.670828  0.507948   \n",
       "\n",
       "           999  \n",
       "1483  4.865066  \n",
       "1755  4.294188  \n",
       "1173  2.279248  \n",
       "1447  2.880086  \n",
       "1913  3.735312  \n",
       "\n",
       "[5 rows x 1345 columns]"
      ]
     },
     "execution_count": 5,
     "metadata": {},
     "output_type": "execute_result"
    }
   ],
   "source": [
    "df = df.reindex(np.random.permutation(df.index))\n",
    "\n",
    "df.head()"
   ]
  },
  {
   "cell_type": "code",
   "execution_count": 6,
   "metadata": {
    "collapsed": false
   },
   "outputs": [
    {
     "name": "stdout",
     "output_type": "stream",
     "text": [
      "feature data is shape (2100, 1344)\n",
      "label data is shape (2100,)\n"
     ]
    }
   ],
   "source": [
    "X = np.array(df.iloc[:,1:])\n",
    "\n",
    "import re\n",
    "def getdigit(text):\n",
    "    return re.compile('\\d+').findall(text)\n",
    "labels = [i.split(getdigit(i)[0])[0] for i in df.iloc[:,0]]\n",
    "\n",
    "from sklearn import preprocessing\n",
    "le = preprocessing.LabelEncoder()\n",
    "y = le.fit_transform(labels)\n",
    "\n",
    "print \"feature data is shape\", X.shape\n",
    "print \"label data is shape\", y.shape"
   ]
  },
  {
   "cell_type": "code",
   "execution_count": 7,
   "metadata": {
    "collapsed": false
   },
   "outputs": [],
   "source": [
    "pipe_svc = Pipeline([('sc1', StandardScaler()),\n",
    "                    ('clf', SVC(kernel='linear'))])\n",
    "\n",
    "param_range = np.logspace(-10, 1, 100)\n",
    "param_grid = [{'clf__C': param_range}]\n",
    "gs = GridSearchCV(estimator=pipe_svc, param_grid=param_grid, cv=10, n_jobs=14)"
   ]
  },
  {
   "cell_type": "code",
   "execution_count": 8,
   "metadata": {
    "collapsed": true
   },
   "outputs": [],
   "source": [
    "skf = StratifiedKFold(y, n_folds=5)\n"
   ]
  },
  {
   "cell_type": "code",
   "execution_count": null,
   "metadata": {
    "collapsed": false,
    "scrolled": true
   },
   "outputs": [],
   "source": [
    "scores = []\n",
    "for train_index, test_index in skf:\n",
    "    X_train, X_test = X[train_index], X[test_index]\n",
    "    y_train, y_test = y[train_index], y[test_index]\n",
    "    gs.fit(X_train, y_train)\n",
    "    clf = SVC(kernel= 'linear', C = gs.best_params_.values()[0])\n",
    "    clf.fit(X_train, y_train) \n",
    "    scores.append(clf.score(X_test, y_test))"
   ]
  },
  {
   "cell_type": "code",
   "execution_count": null,
   "metadata": {
    "collapsed": false
   },
   "outputs": [],
   "source": [
    "scores"
   ]
  },
  {
   "cell_type": "code",
   "execution_count": null,
   "metadata": {
    "collapsed": false
   },
   "outputs": [],
   "source": [
    "np.mean(scores)"
   ]
  },
  {
   "cell_type": "code",
   "execution_count": null,
   "metadata": {
    "collapsed": false
   },
   "outputs": [],
   "source": [
    "gs.best_params_.values()[0]"
   ]
  },
  {
   "cell_type": "code",
   "execution_count": null,
   "metadata": {
    "collapsed": false
   },
   "outputs": [],
   "source": [
    "np.save(out_file, scores)"
   ]
  },
  {
   "cell_type": "code",
   "execution_count": null,
   "metadata": {
    "collapsed": true
   },
   "outputs": [],
   "source": [
    "import collections"
   ]
  },
  {
   "cell_type": "code",
   "execution_count": null,
   "metadata": {
    "collapsed": false
   },
   "outputs": [],
   "source": [
    "counter=collections.Counter(labels)\n",
    "counter"
   ]
  },
  {
   "cell_type": "code",
   "execution_count": null,
   "metadata": {
    "collapsed": true
   },
   "outputs": [],
   "source": []
  }
 ],
 "metadata": {
  "kernelspec": {
   "display_name": "Python 2",
   "language": "python",
   "name": "python2"
  },
  "language_info": {
   "codemirror_mode": {
    "name": "ipython",
    "version": 2
   },
   "file_extension": ".py",
   "mimetype": "text/x-python",
   "name": "python",
   "nbconvert_exporter": "python",
   "pygments_lexer": "ipython2",
   "version": "2.7.5"
  }
 },
 "nbformat": 4,
 "nbformat_minor": 0
}
