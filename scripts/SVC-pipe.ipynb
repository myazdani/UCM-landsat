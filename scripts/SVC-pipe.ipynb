{
 "cells": [
  {
   "cell_type": "code",
   "execution_count": 1,
   "metadata": {
    "collapsed": false
   },
   "outputs": [],
   "source": [
    "import pandas as pd\n",
    "from sklearn.grid_search import GridSearchCV\n",
    "from sklearn.cross_validation import StratifiedKFold\n",
    "from sklearn.svm import SVC\n",
    "from sklearn.pipeline import Pipeline\n",
    "from sklearn.preprocessing import StandardScaler\n",
    "import numpy as np"
   ]
  },
  {
   "cell_type": "code",
   "execution_count": 2,
   "metadata": {
    "collapsed": true
   },
   "outputs": [],
   "source": [
    "in_file = \"../features/UCM-ResNet-50.csv\"\n",
    "out_file = \"../results/\" + in_file.split(\"/\")[-1].split(\".csv\")[0] + \".npy\"\n",
    "df = pd.read_csv(in_file)"
   ]
  },
  {
   "cell_type": "code",
   "execution_count": 3,
   "metadata": {
    "collapsed": false
   },
   "outputs": [
    {
     "data": {
      "text/html": [
       "<div>\n",
       "<table border=\"1\" class=\"dataframe\">\n",
       "  <thead>\n",
       "    <tr style=\"text-align: right;\">\n",
       "      <th></th>\n",
       "      <th>Unnamed: 0</th>\n",
       "      <th>0</th>\n",
       "      <th>1</th>\n",
       "      <th>2</th>\n",
       "      <th>3</th>\n",
       "      <th>4</th>\n",
       "      <th>5</th>\n",
       "      <th>6</th>\n",
       "      <th>7</th>\n",
       "      <th>8</th>\n",
       "      <th>...</th>\n",
       "      <th>990</th>\n",
       "      <th>991</th>\n",
       "      <th>992</th>\n",
       "      <th>993</th>\n",
       "      <th>994</th>\n",
       "      <th>995</th>\n",
       "      <th>996</th>\n",
       "      <th>997</th>\n",
       "      <th>998</th>\n",
       "      <th>999</th>\n",
       "    </tr>\n",
       "  </thead>\n",
       "  <tbody>\n",
       "    <tr>\n",
       "      <th>0</th>\n",
       "      <td>overpass42.tif</td>\n",
       "      <td>-3.452254</td>\n",
       "      <td>-2.115298</td>\n",
       "      <td>2.337132</td>\n",
       "      <td>-4.735918</td>\n",
       "      <td>-0.864968</td>\n",
       "      <td>-0.804796</td>\n",
       "      <td>0.590069</td>\n",
       "      <td>-1.956671</td>\n",
       "      <td>-1.481739</td>\n",
       "      <td>...</td>\n",
       "      <td>-4.031911</td>\n",
       "      <td>-5.490343</td>\n",
       "      <td>-4.604525</td>\n",
       "      <td>-7.912472</td>\n",
       "      <td>-5.986009</td>\n",
       "      <td>-3.889988</td>\n",
       "      <td>-2.727010</td>\n",
       "      <td>-5.560139</td>\n",
       "      <td>-1.653060</td>\n",
       "      <td>-0.281703</td>\n",
       "    </tr>\n",
       "    <tr>\n",
       "      <th>1</th>\n",
       "      <td>mobilehomepark75.tif</td>\n",
       "      <td>-3.502577</td>\n",
       "      <td>-2.483521</td>\n",
       "      <td>-1.433787</td>\n",
       "      <td>-4.362304</td>\n",
       "      <td>-1.102523</td>\n",
       "      <td>-1.828413</td>\n",
       "      <td>-2.268677</td>\n",
       "      <td>-1.050013</td>\n",
       "      <td>-1.267096</td>\n",
       "      <td>...</td>\n",
       "      <td>-0.171323</td>\n",
       "      <td>-1.107236</td>\n",
       "      <td>-1.400606</td>\n",
       "      <td>-2.284436</td>\n",
       "      <td>-0.279304</td>\n",
       "      <td>-1.436117</td>\n",
       "      <td>1.258421</td>\n",
       "      <td>-1.741745</td>\n",
       "      <td>-1.003503</td>\n",
       "      <td>0.169005</td>\n",
       "    </tr>\n",
       "    <tr>\n",
       "      <th>2</th>\n",
       "      <td>tenniscourt46.tif</td>\n",
       "      <td>-5.429916</td>\n",
       "      <td>-0.219190</td>\n",
       "      <td>-2.328792</td>\n",
       "      <td>-3.109982</td>\n",
       "      <td>-1.811881</td>\n",
       "      <td>-2.556363</td>\n",
       "      <td>-2.679789</td>\n",
       "      <td>1.646758</td>\n",
       "      <td>-0.893228</td>\n",
       "      <td>...</td>\n",
       "      <td>-1.462789</td>\n",
       "      <td>-1.348120</td>\n",
       "      <td>-2.905115</td>\n",
       "      <td>-3.428840</td>\n",
       "      <td>-4.179016</td>\n",
       "      <td>-2.366599</td>\n",
       "      <td>-1.274371</td>\n",
       "      <td>-4.796336</td>\n",
       "      <td>-1.585423</td>\n",
       "      <td>1.691911</td>\n",
       "    </tr>\n",
       "    <tr>\n",
       "      <th>3</th>\n",
       "      <td>overpass29.tif</td>\n",
       "      <td>-6.092787</td>\n",
       "      <td>-0.592579</td>\n",
       "      <td>-0.126701</td>\n",
       "      <td>-3.286357</td>\n",
       "      <td>-2.168131</td>\n",
       "      <td>-0.803777</td>\n",
       "      <td>-1.341849</td>\n",
       "      <td>-0.262573</td>\n",
       "      <td>-1.415286</td>\n",
       "      <td>...</td>\n",
       "      <td>-3.785638</td>\n",
       "      <td>-3.402800</td>\n",
       "      <td>-3.301758</td>\n",
       "      <td>-4.492131</td>\n",
       "      <td>-3.419818</td>\n",
       "      <td>-4.899810</td>\n",
       "      <td>-2.095596</td>\n",
       "      <td>-3.085959</td>\n",
       "      <td>-0.987355</td>\n",
       "      <td>2.889485</td>\n",
       "    </tr>\n",
       "    <tr>\n",
       "      <th>4</th>\n",
       "      <td>chaparral41.tif</td>\n",
       "      <td>-3.790862</td>\n",
       "      <td>-0.265185</td>\n",
       "      <td>-2.819205</td>\n",
       "      <td>0.805453</td>\n",
       "      <td>-1.364472</td>\n",
       "      <td>6.193651</td>\n",
       "      <td>5.856352</td>\n",
       "      <td>-1.982988</td>\n",
       "      <td>-1.174672</td>\n",
       "      <td>...</td>\n",
       "      <td>2.636379</td>\n",
       "      <td>5.201247</td>\n",
       "      <td>3.033085</td>\n",
       "      <td>-0.432375</td>\n",
       "      <td>3.056822</td>\n",
       "      <td>0.599141</td>\n",
       "      <td>1.257810</td>\n",
       "      <td>0.735891</td>\n",
       "      <td>0.825257</td>\n",
       "      <td>3.249267</td>\n",
       "    </tr>\n",
       "  </tbody>\n",
       "</table>\n",
       "<p>5 rows × 1001 columns</p>\n",
       "</div>"
      ],
      "text/plain": [
       "             Unnamed: 0         0         1         2         3         4  \\\n",
       "0        overpass42.tif -3.452254 -2.115298  2.337132 -4.735918 -0.864968   \n",
       "1  mobilehomepark75.tif -3.502577 -2.483521 -1.433787 -4.362304 -1.102523   \n",
       "2     tenniscourt46.tif -5.429916 -0.219190 -2.328792 -3.109982 -1.811881   \n",
       "3        overpass29.tif -6.092787 -0.592579 -0.126701 -3.286357 -2.168131   \n",
       "4       chaparral41.tif -3.790862 -0.265185 -2.819205  0.805453 -1.364472   \n",
       "\n",
       "          5         6         7         8    ...          990       991  \\\n",
       "0 -0.804796  0.590069 -1.956671 -1.481739    ...    -4.031911 -5.490343   \n",
       "1 -1.828413 -2.268677 -1.050013 -1.267096    ...    -0.171323 -1.107236   \n",
       "2 -2.556363 -2.679789  1.646758 -0.893228    ...    -1.462789 -1.348120   \n",
       "3 -0.803777 -1.341849 -0.262573 -1.415286    ...    -3.785638 -3.402800   \n",
       "4  6.193651  5.856352 -1.982988 -1.174672    ...     2.636379  5.201247   \n",
       "\n",
       "        992       993       994       995       996       997       998  \\\n",
       "0 -4.604525 -7.912472 -5.986009 -3.889988 -2.727010 -5.560139 -1.653060   \n",
       "1 -1.400606 -2.284436 -0.279304 -1.436117  1.258421 -1.741745 -1.003503   \n",
       "2 -2.905115 -3.428840 -4.179016 -2.366599 -1.274371 -4.796336 -1.585423   \n",
       "3 -3.301758 -4.492131 -3.419818 -4.899810 -2.095596 -3.085959 -0.987355   \n",
       "4  3.033085 -0.432375  3.056822  0.599141  1.257810  0.735891  0.825257   \n",
       "\n",
       "        999  \n",
       "0 -0.281703  \n",
       "1  0.169005  \n",
       "2  1.691911  \n",
       "3  2.889485  \n",
       "4  3.249267  \n",
       "\n",
       "[5 rows x 1001 columns]"
      ]
     },
     "execution_count": 3,
     "metadata": {},
     "output_type": "execute_result"
    }
   ],
   "source": [
    "df.head()"
   ]
  },
  {
   "cell_type": "code",
   "execution_count": 4,
   "metadata": {
    "collapsed": false
   },
   "outputs": [
    {
     "name": "stdout",
     "output_type": "stream",
     "text": [
      "feature data is shape (2100, 1000)\n",
      "label data is shape (2100,)\n"
     ]
    }
   ],
   "source": [
    "X = np.array(df.iloc[:,1:])\n",
    "\n",
    "import re\n",
    "def getdigit(text):\n",
    "    return re.compile('\\d+').findall(text)\n",
    "labels = [i.split(getdigit(i)[0])[0] for i in df.iloc[:,0]]\n",
    "\n",
    "from sklearn import preprocessing\n",
    "le = preprocessing.LabelEncoder()\n",
    "y = le.fit_transform(labels)\n",
    "\n",
    "print \"feature data is shape\", X.shape\n",
    "print \"label data is shape\", y.shape"
   ]
  },
  {
   "cell_type": "code",
   "execution_count": 5,
   "metadata": {
    "collapsed": false
   },
   "outputs": [],
   "source": [
    "pipe_svc = Pipeline([('sc1', StandardScaler()),\n",
    "                    ('clf', SVC(kernel='linear'))])\n",
    "\n",
    "param_range = np.logspace(-10, 1, 100)\n",
    "param_grid = [{'clf__C': param_range}]\n",
    "gs = GridSearchCV(estimator=pipe_svc, param_grid=param_grid, cv=10, n_jobs=-1)"
   ]
  },
  {
   "cell_type": "code",
   "execution_count": 6,
   "metadata": {
    "collapsed": true
   },
   "outputs": [],
   "source": [
    "skf = StratifiedKFold(y, n_folds=5)\n"
   ]
  },
  {
   "cell_type": "code",
   "execution_count": 7,
   "metadata": {
    "collapsed": false,
    "scrolled": true
   },
   "outputs": [],
   "source": [
    "scores = []\n",
    "for train_index, test_index in skf:\n",
    "    X_train, X_test = X[train_index], X[test_index]\n",
    "    y_train, y_test = y[train_index], y[test_index]\n",
    "    gs.fit(X_train, y_train)\n",
    "    clf = SVC(kernel= 'linear', C = gs.best_params_.values()[0])\n",
    "    clf.fit(X_train, y_train) \n",
    "    scores.append(clf.score(X_test, y_test))"
   ]
  },
  {
   "cell_type": "code",
   "execution_count": 8,
   "metadata": {
    "collapsed": false
   },
   "outputs": [
    {
     "data": {
      "text/plain": [
       "[0.95714285714285718,\n",
       " 0.94285714285714284,\n",
       " 0.94285714285714284,\n",
       " 0.92142857142857137,\n",
       " 0.95238095238095233]"
      ]
     },
     "execution_count": 8,
     "metadata": {},
     "output_type": "execute_result"
    }
   ],
   "source": [
    "scores"
   ]
  },
  {
   "cell_type": "code",
   "execution_count": 9,
   "metadata": {
    "collapsed": false
   },
   "outputs": [
    {
     "data": {
      "text/plain": [
       "0.94333333333333313"
      ]
     },
     "execution_count": 9,
     "metadata": {},
     "output_type": "execute_result"
    }
   ],
   "source": [
    "np.mean(scores)"
   ]
  },
  {
   "cell_type": "code",
   "execution_count": 10,
   "metadata": {
    "collapsed": false
   },
   "outputs": [
    {
     "data": {
      "text/plain": [
       "0.00278255940220712"
      ]
     },
     "execution_count": 10,
     "metadata": {},
     "output_type": "execute_result"
    }
   ],
   "source": [
    "gs.best_params_.values()[0]"
   ]
  },
  {
   "cell_type": "code",
   "execution_count": 11,
   "metadata": {
    "collapsed": false
   },
   "outputs": [],
   "source": [
    "np.save(out_file, scores)"
   ]
  },
  {
   "cell_type": "code",
   "execution_count": null,
   "metadata": {
    "collapsed": true
   },
   "outputs": [],
   "source": []
  }
 ],
 "metadata": {
  "kernelspec": {
   "display_name": "Python 2",
   "language": "python",
   "name": "python2"
  },
  "language_info": {
   "codemirror_mode": {
    "name": "ipython",
    "version": 2
   },
   "file_extension": ".py",
   "mimetype": "text/x-python",
   "name": "python",
   "nbconvert_exporter": "python",
   "pygments_lexer": "ipython2",
   "version": "2.7.5"
  }
 },
 "nbformat": 4,
 "nbformat_minor": 0
}
