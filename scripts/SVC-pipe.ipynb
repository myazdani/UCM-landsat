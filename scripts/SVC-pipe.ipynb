{
 "cells": [
  {
   "cell_type": "code",
   "execution_count": 1,
   "metadata": {
    "collapsed": false
   },
   "outputs": [],
   "source": [
    "import pandas as pd\n",
    "from sklearn.grid_search import GridSearchCV\n",
    "from sklearn.cross_validation import StratifiedKFold\n",
    "from sklearn.svm import SVC\n",
    "from sklearn.pipeline import Pipeline\n",
    "from sklearn.preprocessing import StandardScaler\n",
    "import numpy as np"
   ]
  },
  {
   "cell_type": "code",
   "execution_count": 33,
   "metadata": {
    "collapsed": true
   },
   "outputs": [],
   "source": [
    "in_file = \"../features/UCM-ResNet-152.csv\"\n",
    "out_file = \"../results/\" + in_file.split(\"/\")[-1].split(\".csv\")[0] + \".npy\"\n",
    "df = pd.read_csv(\"../features/UCM-ResNet-152.csv\")"
   ]
  },
  {
   "cell_type": "code",
   "execution_count": 3,
   "metadata": {
    "collapsed": false
   },
   "outputs": [
    {
     "data": {
      "text/html": [
       "<div>\n",
       "<table border=\"1\" class=\"dataframe\">\n",
       "  <thead>\n",
       "    <tr style=\"text-align: right;\">\n",
       "      <th></th>\n",
       "      <th>Unnamed: 0</th>\n",
       "      <th>0</th>\n",
       "      <th>1</th>\n",
       "      <th>2</th>\n",
       "      <th>3</th>\n",
       "      <th>4</th>\n",
       "      <th>5</th>\n",
       "      <th>6</th>\n",
       "      <th>7</th>\n",
       "      <th>8</th>\n",
       "      <th>...</th>\n",
       "      <th>990</th>\n",
       "      <th>991</th>\n",
       "      <th>992</th>\n",
       "      <th>993</th>\n",
       "      <th>994</th>\n",
       "      <th>995</th>\n",
       "      <th>996</th>\n",
       "      <th>997</th>\n",
       "      <th>998</th>\n",
       "      <th>999</th>\n",
       "    </tr>\n",
       "  </thead>\n",
       "  <tbody>\n",
       "    <tr>\n",
       "      <th>0</th>\n",
       "      <td>overpass42.tif</td>\n",
       "      <td>-3.752808</td>\n",
       "      <td>-0.461312</td>\n",
       "      <td>6.960607</td>\n",
       "      <td>0.093534</td>\n",
       "      <td>3.216339</td>\n",
       "      <td>4.002225</td>\n",
       "      <td>3.377012</td>\n",
       "      <td>-0.725385</td>\n",
       "      <td>-0.054136</td>\n",
       "      <td>...</td>\n",
       "      <td>-3.938607</td>\n",
       "      <td>-3.955094</td>\n",
       "      <td>-4.418676</td>\n",
       "      <td>-6.199239</td>\n",
       "      <td>-6.088099</td>\n",
       "      <td>-5.453274</td>\n",
       "      <td>-2.186284</td>\n",
       "      <td>-4.251893</td>\n",
       "      <td>0.395046</td>\n",
       "      <td>2.857523</td>\n",
       "    </tr>\n",
       "    <tr>\n",
       "      <th>1</th>\n",
       "      <td>mobilehomepark75.tif</td>\n",
       "      <td>-4.689972</td>\n",
       "      <td>-1.533276</td>\n",
       "      <td>-0.363770</td>\n",
       "      <td>-3.712684</td>\n",
       "      <td>-2.175694</td>\n",
       "      <td>-1.606550</td>\n",
       "      <td>0.039839</td>\n",
       "      <td>-0.344135</td>\n",
       "      <td>-1.551318</td>\n",
       "      <td>...</td>\n",
       "      <td>-0.637004</td>\n",
       "      <td>-1.235481</td>\n",
       "      <td>-3.377314</td>\n",
       "      <td>-2.801301</td>\n",
       "      <td>0.275908</td>\n",
       "      <td>-2.032623</td>\n",
       "      <td>1.609835</td>\n",
       "      <td>-2.581015</td>\n",
       "      <td>-0.597632</td>\n",
       "      <td>1.511363</td>\n",
       "    </tr>\n",
       "    <tr>\n",
       "      <th>2</th>\n",
       "      <td>tenniscourt46.tif</td>\n",
       "      <td>-5.380649</td>\n",
       "      <td>2.026206</td>\n",
       "      <td>-1.288875</td>\n",
       "      <td>-2.794645</td>\n",
       "      <td>-0.624042</td>\n",
       "      <td>-2.003144</td>\n",
       "      <td>-0.835236</td>\n",
       "      <td>1.924311</td>\n",
       "      <td>-0.835306</td>\n",
       "      <td>...</td>\n",
       "      <td>-3.942154</td>\n",
       "      <td>1.403567</td>\n",
       "      <td>-4.646072</td>\n",
       "      <td>-4.062453</td>\n",
       "      <td>-3.283334</td>\n",
       "      <td>-2.077019</td>\n",
       "      <td>-1.828276</td>\n",
       "      <td>-3.919093</td>\n",
       "      <td>-1.109062</td>\n",
       "      <td>1.274806</td>\n",
       "    </tr>\n",
       "    <tr>\n",
       "      <th>3</th>\n",
       "      <td>overpass29.tif</td>\n",
       "      <td>-5.712953</td>\n",
       "      <td>-1.040280</td>\n",
       "      <td>-2.517505</td>\n",
       "      <td>-4.440084</td>\n",
       "      <td>-2.735700</td>\n",
       "      <td>-2.535528</td>\n",
       "      <td>-3.655354</td>\n",
       "      <td>-1.255664</td>\n",
       "      <td>-0.288036</td>\n",
       "      <td>...</td>\n",
       "      <td>-4.785943</td>\n",
       "      <td>-4.641560</td>\n",
       "      <td>-2.772527</td>\n",
       "      <td>-4.608302</td>\n",
       "      <td>-3.955713</td>\n",
       "      <td>-4.166010</td>\n",
       "      <td>-0.935464</td>\n",
       "      <td>-4.376791</td>\n",
       "      <td>0.616531</td>\n",
       "      <td>2.408259</td>\n",
       "    </tr>\n",
       "    <tr>\n",
       "      <th>4</th>\n",
       "      <td>chaparral41.tif</td>\n",
       "      <td>-4.463096</td>\n",
       "      <td>-1.501895</td>\n",
       "      <td>-3.866307</td>\n",
       "      <td>-2.188615</td>\n",
       "      <td>-0.698318</td>\n",
       "      <td>6.733519</td>\n",
       "      <td>4.000729</td>\n",
       "      <td>-3.779526</td>\n",
       "      <td>-0.615270</td>\n",
       "      <td>...</td>\n",
       "      <td>1.896740</td>\n",
       "      <td>4.526745</td>\n",
       "      <td>-2.148957</td>\n",
       "      <td>-2.937480</td>\n",
       "      <td>4.451448</td>\n",
       "      <td>0.490672</td>\n",
       "      <td>-0.508413</td>\n",
       "      <td>-1.133084</td>\n",
       "      <td>0.980089</td>\n",
       "      <td>3.013349</td>\n",
       "    </tr>\n",
       "  </tbody>\n",
       "</table>\n",
       "<p>5 rows × 1001 columns</p>\n",
       "</div>"
      ],
      "text/plain": [
       "             Unnamed: 0         0         1         2         3         4  \\\n",
       "0        overpass42.tif -3.752808 -0.461312  6.960607  0.093534  3.216339   \n",
       "1  mobilehomepark75.tif -4.689972 -1.533276 -0.363770 -3.712684 -2.175694   \n",
       "2     tenniscourt46.tif -5.380649  2.026206 -1.288875 -2.794645 -0.624042   \n",
       "3        overpass29.tif -5.712953 -1.040280 -2.517505 -4.440084 -2.735700   \n",
       "4       chaparral41.tif -4.463096 -1.501895 -3.866307 -2.188615 -0.698318   \n",
       "\n",
       "          5         6         7         8    ...          990       991  \\\n",
       "0  4.002225  3.377012 -0.725385 -0.054136    ...    -3.938607 -3.955094   \n",
       "1 -1.606550  0.039839 -0.344135 -1.551318    ...    -0.637004 -1.235481   \n",
       "2 -2.003144 -0.835236  1.924311 -0.835306    ...    -3.942154  1.403567   \n",
       "3 -2.535528 -3.655354 -1.255664 -0.288036    ...    -4.785943 -4.641560   \n",
       "4  6.733519  4.000729 -3.779526 -0.615270    ...     1.896740  4.526745   \n",
       "\n",
       "        992       993       994       995       996       997       998  \\\n",
       "0 -4.418676 -6.199239 -6.088099 -5.453274 -2.186284 -4.251893  0.395046   \n",
       "1 -3.377314 -2.801301  0.275908 -2.032623  1.609835 -2.581015 -0.597632   \n",
       "2 -4.646072 -4.062453 -3.283334 -2.077019 -1.828276 -3.919093 -1.109062   \n",
       "3 -2.772527 -4.608302 -3.955713 -4.166010 -0.935464 -4.376791  0.616531   \n",
       "4 -2.148957 -2.937480  4.451448  0.490672 -0.508413 -1.133084  0.980089   \n",
       "\n",
       "        999  \n",
       "0  2.857523  \n",
       "1  1.511363  \n",
       "2  1.274806  \n",
       "3  2.408259  \n",
       "4  3.013349  \n",
       "\n",
       "[5 rows x 1001 columns]"
      ]
     },
     "execution_count": 3,
     "metadata": {},
     "output_type": "execute_result"
    }
   ],
   "source": [
    "df.head()"
   ]
  },
  {
   "cell_type": "code",
   "execution_count": 4,
   "metadata": {
    "collapsed": false
   },
   "outputs": [
    {
     "name": "stdout",
     "output_type": "stream",
     "text": [
      "feature data is shape (2100, 1000)\n",
      "label data is shape (2100,)\n"
     ]
    }
   ],
   "source": [
    "X = np.array(df.iloc[:,1:])\n",
    "\n",
    "import re\n",
    "def getdigit(text):\n",
    "    return re.compile('\\d+').findall(text)\n",
    "labels = [i.split(getdigit(i)[0])[0] for i in df.iloc[:,0]]\n",
    "\n",
    "from sklearn import preprocessing\n",
    "le = preprocessing.LabelEncoder()\n",
    "y = le.fit_transform(labels)\n",
    "\n",
    "print \"feature data is shape\", X.shape\n",
    "print \"label data is shape\", y.shape"
   ]
  },
  {
   "cell_type": "code",
   "execution_count": 21,
   "metadata": {
    "collapsed": false
   },
   "outputs": [],
   "source": [
    "pipe_svc = Pipeline([('sc1', StandardScaler()),\n",
    "                    ('clf', SVC(kernel='linear'))])\n",
    "\n",
    "param_range = np.logspace(-10, 1, 100)\n",
    "param_grid = [{'clf__C': param_range}]\n",
    "gs = GridSearchCV(estimator=pipe_svc, param_grid=param_grid, cv=10, n_jobs=-1)"
   ]
  },
  {
   "cell_type": "code",
   "execution_count": 22,
   "metadata": {
    "collapsed": true
   },
   "outputs": [],
   "source": [
    "skf = StratifiedKFold(y, n_folds=5)\n"
   ]
  },
  {
   "cell_type": "code",
   "execution_count": 23,
   "metadata": {
    "collapsed": false,
    "scrolled": true
   },
   "outputs": [],
   "source": [
    "scores = []\n",
    "for train_index, test_index in skf:\n",
    "    X_train, X_test = X[train_index], X[test_index]\n",
    "    y_train, y_test = y[train_index], y[test_index]\n",
    "    gs.fit(X_train, y_train)\n",
    "    clf = SVC(kernel= 'linear', C = gs.best_params_.values()[0])\n",
    "    clf.fit(X_train, y_train) \n",
    "    scores.append(clf.score(X_test, y_test))"
   ]
  },
  {
   "cell_type": "code",
   "execution_count": 24,
   "metadata": {
    "collapsed": false
   },
   "outputs": [
    {
     "data": {
      "text/plain": [
       "[0.95476190476190481,\n",
       " 0.94761904761904758,\n",
       " 0.94999999999999996,\n",
       " 0.93095238095238098,\n",
       " 0.95952380952380956]"
      ]
     },
     "execution_count": 24,
     "metadata": {},
     "output_type": "execute_result"
    }
   ],
   "source": [
    "scores"
   ]
  },
  {
   "cell_type": "code",
   "execution_count": 25,
   "metadata": {
    "collapsed": false
   },
   "outputs": [
    {
     "data": {
      "text/plain": [
       "0.94857142857142862"
      ]
     },
     "execution_count": 25,
     "metadata": {},
     "output_type": "execute_result"
    }
   ],
   "source": [
    "np.mean(scores)"
   ]
  },
  {
   "cell_type": "code",
   "execution_count": 26,
   "metadata": {
    "collapsed": false
   },
   "outputs": [
    {
     "data": {
      "text/plain": [
       "0.0021544346900318821"
      ]
     },
     "execution_count": 26,
     "metadata": {},
     "output_type": "execute_result"
    }
   ],
   "source": [
    "gs.best_params_.values()[0]"
   ]
  },
  {
   "cell_type": "code",
   "execution_count": 35,
   "metadata": {
    "collapsed": false
   },
   "outputs": [],
   "source": [
    "np.save(out_file, scores)"
   ]
  }
 ],
 "metadata": {
  "kernelspec": {
   "display_name": "Python 2",
   "language": "python",
   "name": "python2"
  },
  "language_info": {
   "codemirror_mode": {
    "name": "ipython",
    "version": 2
   },
   "file_extension": ".py",
   "mimetype": "text/x-python",
   "name": "python",
   "nbconvert_exporter": "python",
   "pygments_lexer": "ipython2",
   "version": "2.7.11"
  }
 },
 "nbformat": 4,
 "nbformat_minor": 0
}
